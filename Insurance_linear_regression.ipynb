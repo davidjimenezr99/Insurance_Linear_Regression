{
 "cells": [
  {
   "cell_type": "markdown",
   "id": "950bddeb-3841-4d58-85a0-44eb3e1e61cd",
   "metadata": {},
   "source": [
    "### Importación de librerías"
   ]
  },
  {
   "cell_type": "code",
   "execution_count": 132,
   "id": "4b12516b-01cd-4f3e-bc38-c63aa69270e3",
   "metadata": {},
   "outputs": [],
   "source": [
    "import pandas as pd\n",
    "import matplotlib.pyplot as plt\n",
    "import seaborn as sns\n",
    "from scipy import stats\n",
    "from sklearn.linear_model import LinearRegression, Ridge, Lasso, ElasticNet\n",
    "from sklearn.model_selection import train_test_split, cross_val_score\n",
    "from sklearn.metrics import r2_score\n",
    "from sklearn.preprocessing import StandardScaler\n",
    "from statsmodels.stats.stattools import durbin_watson\n",
    "import statsmodels.stats.api as sms\n",
    "import statsmodels.api as sm\n",
    "import joblib"
   ]
  },
  {
   "cell_type": "markdown",
   "id": "a9cd0b82-d9f0-474e-9d94-344e4938c44d",
   "metadata": {},
   "source": [
    "### Carga de datos"
   ]
  },
  {
   "cell_type": "code",
   "execution_count": 107,
   "id": "a3e1d275-cf37-475b-a2e0-a99db0f135a4",
   "metadata": {},
   "outputs": [],
   "source": [
    "df = pd.read_csv('insurance.csv')"
   ]
  },
  {
   "cell_type": "markdown",
   "id": "fa1c730c-7455-4c9a-bb18-e0780d84bb31",
   "metadata": {},
   "source": [
    "### Inspección inicial de datoss  \n",
    "No hay valores nulos, pero el dataset tiene 3 variables categoricas para transformar"
   ]
  },
  {
   "cell_type": "code",
   "execution_count": 108,
   "id": "8709fa30-eaf0-4c6b-b637-e791d59d0ab2",
   "metadata": {},
   "outputs": [
    {
     "name": "stdout",
     "output_type": "stream",
     "text": [
      "   age     sex     bmi  children smoker     region      charges\n",
      "0   19  female  27.900         0    yes  southwest  16884.92400\n",
      "1   18    male  33.770         1     no  southeast   1725.55230\n",
      "2   28    male  33.000         3     no  southeast   4449.46200\n",
      "3   33    male  22.705         0     no  northwest  21984.47061\n",
      "4   32    male  28.880         0     no  northwest   3866.85520\n",
      "5   31  female  25.740         0     no  southeast   3756.62160\n",
      "6   46  female  33.440         1     no  southeast   8240.58960\n",
      "7   37  female  27.740         3     no  northwest   7281.50560\n",
      "8   37    male  29.830         2     no  northeast   6406.41070\n",
      "9   60  female  25.840         0     no  northwest  28923.13692\n",
      "(1338, 7)\n",
      "<class 'pandas.core.frame.DataFrame'>\n",
      "RangeIndex: 1338 entries, 0 to 1337\n",
      "Data columns (total 7 columns):\n",
      " #   Column    Non-Null Count  Dtype  \n",
      "---  ------    --------------  -----  \n",
      " 0   age       1338 non-null   int64  \n",
      " 1   sex       1338 non-null   object \n",
      " 2   bmi       1338 non-null   float64\n",
      " 3   children  1338 non-null   int64  \n",
      " 4   smoker    1338 non-null   object \n",
      " 5   region    1338 non-null   object \n",
      " 6   charges   1338 non-null   float64\n",
      "dtypes: float64(2), int64(2), object(3)\n",
      "memory usage: 73.3+ KB\n",
      "None\n"
     ]
    }
   ],
   "source": [
    "print(df.head(10))\n",
    "print(df.shape)\n",
    "print(df.info())"
   ]
  },
  {
   "cell_type": "markdown",
   "id": "92d9f9bc-e936-4d2c-94b6-69634c38d555",
   "metadata": {},
   "source": [
    "### Transformación de variables  \n",
    "En sex transformo male en 1 y female en 0  \n",
    "En smoker transformo yes en 1 y no en 0  \n",
    "Para region hago un one-hot encoding"
   ]
  },
  {
   "cell_type": "code",
   "execution_count": 109,
   "id": "ba3e4e67-2094-4b54-a88a-1ec48b519046",
   "metadata": {},
   "outputs": [],
   "source": [
    "df['sex'].replace({'male':1, 'female':0}, inplace=True)\n",
    "df['smoker'].replace({'yes':1, 'no':0}, inplace=True)\n",
    "df = pd.get_dummies(df, columns=['region'], dtype=int)"
   ]
  },
  {
   "cell_type": "code",
   "execution_count": 110,
   "id": "988fe5f6-aad2-47a4-b085-fb0d7f2a3b55",
   "metadata": {},
   "outputs": [
    {
     "data": {
      "text/html": [
       "<div>\n",
       "<style scoped>\n",
       "    .dataframe tbody tr th:only-of-type {\n",
       "        vertical-align: middle;\n",
       "    }\n",
       "\n",
       "    .dataframe tbody tr th {\n",
       "        vertical-align: top;\n",
       "    }\n",
       "\n",
       "    .dataframe thead th {\n",
       "        text-align: right;\n",
       "    }\n",
       "</style>\n",
       "<table border=\"1\" class=\"dataframe\">\n",
       "  <thead>\n",
       "    <tr style=\"text-align: right;\">\n",
       "      <th></th>\n",
       "      <th>age</th>\n",
       "      <th>sex</th>\n",
       "      <th>bmi</th>\n",
       "      <th>children</th>\n",
       "      <th>smoker</th>\n",
       "      <th>charges</th>\n",
       "      <th>region_northeast</th>\n",
       "      <th>region_northwest</th>\n",
       "      <th>region_southeast</th>\n",
       "      <th>region_southwest</th>\n",
       "    </tr>\n",
       "  </thead>\n",
       "  <tbody>\n",
       "    <tr>\n",
       "      <th>count</th>\n",
       "      <td>1338.000000</td>\n",
       "      <td>1338.000000</td>\n",
       "      <td>1338.000000</td>\n",
       "      <td>1338.000000</td>\n",
       "      <td>1338.000000</td>\n",
       "      <td>1338.000000</td>\n",
       "      <td>1338.000000</td>\n",
       "      <td>1338.000000</td>\n",
       "      <td>1338.000000</td>\n",
       "      <td>1338.000000</td>\n",
       "    </tr>\n",
       "    <tr>\n",
       "      <th>mean</th>\n",
       "      <td>39.207025</td>\n",
       "      <td>0.505232</td>\n",
       "      <td>30.663397</td>\n",
       "      <td>1.094918</td>\n",
       "      <td>0.204783</td>\n",
       "      <td>13270.422265</td>\n",
       "      <td>0.242152</td>\n",
       "      <td>0.242900</td>\n",
       "      <td>0.272048</td>\n",
       "      <td>0.242900</td>\n",
       "    </tr>\n",
       "    <tr>\n",
       "      <th>std</th>\n",
       "      <td>14.049960</td>\n",
       "      <td>0.500160</td>\n",
       "      <td>6.098187</td>\n",
       "      <td>1.205493</td>\n",
       "      <td>0.403694</td>\n",
       "      <td>12110.011237</td>\n",
       "      <td>0.428546</td>\n",
       "      <td>0.428995</td>\n",
       "      <td>0.445181</td>\n",
       "      <td>0.428995</td>\n",
       "    </tr>\n",
       "    <tr>\n",
       "      <th>min</th>\n",
       "      <td>18.000000</td>\n",
       "      <td>0.000000</td>\n",
       "      <td>15.960000</td>\n",
       "      <td>0.000000</td>\n",
       "      <td>0.000000</td>\n",
       "      <td>1121.873900</td>\n",
       "      <td>0.000000</td>\n",
       "      <td>0.000000</td>\n",
       "      <td>0.000000</td>\n",
       "      <td>0.000000</td>\n",
       "    </tr>\n",
       "    <tr>\n",
       "      <th>25%</th>\n",
       "      <td>27.000000</td>\n",
       "      <td>0.000000</td>\n",
       "      <td>26.296250</td>\n",
       "      <td>0.000000</td>\n",
       "      <td>0.000000</td>\n",
       "      <td>4740.287150</td>\n",
       "      <td>0.000000</td>\n",
       "      <td>0.000000</td>\n",
       "      <td>0.000000</td>\n",
       "      <td>0.000000</td>\n",
       "    </tr>\n",
       "    <tr>\n",
       "      <th>50%</th>\n",
       "      <td>39.000000</td>\n",
       "      <td>1.000000</td>\n",
       "      <td>30.400000</td>\n",
       "      <td>1.000000</td>\n",
       "      <td>0.000000</td>\n",
       "      <td>9382.033000</td>\n",
       "      <td>0.000000</td>\n",
       "      <td>0.000000</td>\n",
       "      <td>0.000000</td>\n",
       "      <td>0.000000</td>\n",
       "    </tr>\n",
       "    <tr>\n",
       "      <th>75%</th>\n",
       "      <td>51.000000</td>\n",
       "      <td>1.000000</td>\n",
       "      <td>34.693750</td>\n",
       "      <td>2.000000</td>\n",
       "      <td>0.000000</td>\n",
       "      <td>16639.912515</td>\n",
       "      <td>0.000000</td>\n",
       "      <td>0.000000</td>\n",
       "      <td>1.000000</td>\n",
       "      <td>0.000000</td>\n",
       "    </tr>\n",
       "    <tr>\n",
       "      <th>max</th>\n",
       "      <td>64.000000</td>\n",
       "      <td>1.000000</td>\n",
       "      <td>53.130000</td>\n",
       "      <td>5.000000</td>\n",
       "      <td>1.000000</td>\n",
       "      <td>63770.428010</td>\n",
       "      <td>1.000000</td>\n",
       "      <td>1.000000</td>\n",
       "      <td>1.000000</td>\n",
       "      <td>1.000000</td>\n",
       "    </tr>\n",
       "  </tbody>\n",
       "</table>\n",
       "</div>"
      ],
      "text/plain": [
       "               age          sex          bmi     children       smoker  \\\n",
       "count  1338.000000  1338.000000  1338.000000  1338.000000  1338.000000   \n",
       "mean     39.207025     0.505232    30.663397     1.094918     0.204783   \n",
       "std      14.049960     0.500160     6.098187     1.205493     0.403694   \n",
       "min      18.000000     0.000000    15.960000     0.000000     0.000000   \n",
       "25%      27.000000     0.000000    26.296250     0.000000     0.000000   \n",
       "50%      39.000000     1.000000    30.400000     1.000000     0.000000   \n",
       "75%      51.000000     1.000000    34.693750     2.000000     0.000000   \n",
       "max      64.000000     1.000000    53.130000     5.000000     1.000000   \n",
       "\n",
       "            charges  region_northeast  region_northwest  region_southeast  \\\n",
       "count   1338.000000       1338.000000       1338.000000       1338.000000   \n",
       "mean   13270.422265          0.242152          0.242900          0.272048   \n",
       "std    12110.011237          0.428546          0.428995          0.445181   \n",
       "min     1121.873900          0.000000          0.000000          0.000000   \n",
       "25%     4740.287150          0.000000          0.000000          0.000000   \n",
       "50%     9382.033000          0.000000          0.000000          0.000000   \n",
       "75%    16639.912515          0.000000          0.000000          1.000000   \n",
       "max    63770.428010          1.000000          1.000000          1.000000   \n",
       "\n",
       "       region_southwest  \n",
       "count       1338.000000  \n",
       "mean           0.242900  \n",
       "std            0.428995  \n",
       "min            0.000000  \n",
       "25%            0.000000  \n",
       "50%            0.000000  \n",
       "75%            0.000000  \n",
       "max            1.000000  "
      ]
     },
     "execution_count": 110,
     "metadata": {},
     "output_type": "execute_result"
    }
   ],
   "source": [
    "df.describe()"
   ]
  },
  {
   "cell_type": "markdown",
   "id": "a1e7dfb2-83b2-4e2d-9a4a-686406e0c21a",
   "metadata": {},
   "source": [
    "### Analisis de correlaciones  \n",
    "Las variables que más afectan a la dependiente son smoker, age y bmi  \n",
    "No hay multicolinealidad entre las variables"
   ]
  },
  {
   "cell_type": "code",
   "execution_count": 111,
   "id": "d549955e-c537-4268-8af2-5539e61fdfdc",
   "metadata": {},
   "outputs": [
    {
     "data": {
      "text/html": [
       "<div>\n",
       "<style scoped>\n",
       "    .dataframe tbody tr th:only-of-type {\n",
       "        vertical-align: middle;\n",
       "    }\n",
       "\n",
       "    .dataframe tbody tr th {\n",
       "        vertical-align: top;\n",
       "    }\n",
       "\n",
       "    .dataframe thead th {\n",
       "        text-align: right;\n",
       "    }\n",
       "</style>\n",
       "<table border=\"1\" class=\"dataframe\">\n",
       "  <thead>\n",
       "    <tr style=\"text-align: right;\">\n",
       "      <th></th>\n",
       "      <th>age</th>\n",
       "      <th>sex</th>\n",
       "      <th>bmi</th>\n",
       "      <th>children</th>\n",
       "      <th>smoker</th>\n",
       "      <th>charges</th>\n",
       "      <th>region_northeast</th>\n",
       "      <th>region_northwest</th>\n",
       "      <th>region_southeast</th>\n",
       "      <th>region_southwest</th>\n",
       "    </tr>\n",
       "  </thead>\n",
       "  <tbody>\n",
       "    <tr>\n",
       "      <th>age</th>\n",
       "      <td>1.000000</td>\n",
       "      <td>-0.020856</td>\n",
       "      <td>0.109272</td>\n",
       "      <td>0.042469</td>\n",
       "      <td>-0.025019</td>\n",
       "      <td>0.299008</td>\n",
       "      <td>0.002475</td>\n",
       "      <td>-0.000407</td>\n",
       "      <td>-0.011642</td>\n",
       "      <td>0.010016</td>\n",
       "    </tr>\n",
       "    <tr>\n",
       "      <th>sex</th>\n",
       "      <td>-0.020856</td>\n",
       "      <td>1.000000</td>\n",
       "      <td>0.046371</td>\n",
       "      <td>0.017163</td>\n",
       "      <td>0.076185</td>\n",
       "      <td>0.057292</td>\n",
       "      <td>-0.002425</td>\n",
       "      <td>-0.011156</td>\n",
       "      <td>0.017117</td>\n",
       "      <td>-0.004184</td>\n",
       "    </tr>\n",
       "    <tr>\n",
       "      <th>bmi</th>\n",
       "      <td>0.109272</td>\n",
       "      <td>0.046371</td>\n",
       "      <td>1.000000</td>\n",
       "      <td>0.012759</td>\n",
       "      <td>0.003750</td>\n",
       "      <td>0.198341</td>\n",
       "      <td>-0.138156</td>\n",
       "      <td>-0.135996</td>\n",
       "      <td>0.270025</td>\n",
       "      <td>-0.006205</td>\n",
       "    </tr>\n",
       "    <tr>\n",
       "      <th>children</th>\n",
       "      <td>0.042469</td>\n",
       "      <td>0.017163</td>\n",
       "      <td>0.012759</td>\n",
       "      <td>1.000000</td>\n",
       "      <td>0.007673</td>\n",
       "      <td>0.067998</td>\n",
       "      <td>-0.022808</td>\n",
       "      <td>0.024806</td>\n",
       "      <td>-0.023066</td>\n",
       "      <td>0.021914</td>\n",
       "    </tr>\n",
       "    <tr>\n",
       "      <th>smoker</th>\n",
       "      <td>-0.025019</td>\n",
       "      <td>0.076185</td>\n",
       "      <td>0.003750</td>\n",
       "      <td>0.007673</td>\n",
       "      <td>1.000000</td>\n",
       "      <td>0.787251</td>\n",
       "      <td>0.002811</td>\n",
       "      <td>-0.036945</td>\n",
       "      <td>0.068498</td>\n",
       "      <td>-0.036945</td>\n",
       "    </tr>\n",
       "    <tr>\n",
       "      <th>charges</th>\n",
       "      <td>0.299008</td>\n",
       "      <td>0.057292</td>\n",
       "      <td>0.198341</td>\n",
       "      <td>0.067998</td>\n",
       "      <td>0.787251</td>\n",
       "      <td>1.000000</td>\n",
       "      <td>0.006349</td>\n",
       "      <td>-0.039905</td>\n",
       "      <td>0.073982</td>\n",
       "      <td>-0.043210</td>\n",
       "    </tr>\n",
       "    <tr>\n",
       "      <th>region_northeast</th>\n",
       "      <td>0.002475</td>\n",
       "      <td>-0.002425</td>\n",
       "      <td>-0.138156</td>\n",
       "      <td>-0.022808</td>\n",
       "      <td>0.002811</td>\n",
       "      <td>0.006349</td>\n",
       "      <td>1.000000</td>\n",
       "      <td>-0.320177</td>\n",
       "      <td>-0.345561</td>\n",
       "      <td>-0.320177</td>\n",
       "    </tr>\n",
       "    <tr>\n",
       "      <th>region_northwest</th>\n",
       "      <td>-0.000407</td>\n",
       "      <td>-0.011156</td>\n",
       "      <td>-0.135996</td>\n",
       "      <td>0.024806</td>\n",
       "      <td>-0.036945</td>\n",
       "      <td>-0.039905</td>\n",
       "      <td>-0.320177</td>\n",
       "      <td>1.000000</td>\n",
       "      <td>-0.346265</td>\n",
       "      <td>-0.320829</td>\n",
       "    </tr>\n",
       "    <tr>\n",
       "      <th>region_southeast</th>\n",
       "      <td>-0.011642</td>\n",
       "      <td>0.017117</td>\n",
       "      <td>0.270025</td>\n",
       "      <td>-0.023066</td>\n",
       "      <td>0.068498</td>\n",
       "      <td>0.073982</td>\n",
       "      <td>-0.345561</td>\n",
       "      <td>-0.346265</td>\n",
       "      <td>1.000000</td>\n",
       "      <td>-0.346265</td>\n",
       "    </tr>\n",
       "    <tr>\n",
       "      <th>region_southwest</th>\n",
       "      <td>0.010016</td>\n",
       "      <td>-0.004184</td>\n",
       "      <td>-0.006205</td>\n",
       "      <td>0.021914</td>\n",
       "      <td>-0.036945</td>\n",
       "      <td>-0.043210</td>\n",
       "      <td>-0.320177</td>\n",
       "      <td>-0.320829</td>\n",
       "      <td>-0.346265</td>\n",
       "      <td>1.000000</td>\n",
       "    </tr>\n",
       "  </tbody>\n",
       "</table>\n",
       "</div>"
      ],
      "text/plain": [
       "                       age       sex       bmi  children    smoker   charges  \\\n",
       "age               1.000000 -0.020856  0.109272  0.042469 -0.025019  0.299008   \n",
       "sex              -0.020856  1.000000  0.046371  0.017163  0.076185  0.057292   \n",
       "bmi               0.109272  0.046371  1.000000  0.012759  0.003750  0.198341   \n",
       "children          0.042469  0.017163  0.012759  1.000000  0.007673  0.067998   \n",
       "smoker           -0.025019  0.076185  0.003750  0.007673  1.000000  0.787251   \n",
       "charges           0.299008  0.057292  0.198341  0.067998  0.787251  1.000000   \n",
       "region_northeast  0.002475 -0.002425 -0.138156 -0.022808  0.002811  0.006349   \n",
       "region_northwest -0.000407 -0.011156 -0.135996  0.024806 -0.036945 -0.039905   \n",
       "region_southeast -0.011642  0.017117  0.270025 -0.023066  0.068498  0.073982   \n",
       "region_southwest  0.010016 -0.004184 -0.006205  0.021914 -0.036945 -0.043210   \n",
       "\n",
       "                  region_northeast  region_northwest  region_southeast  \\\n",
       "age                       0.002475         -0.000407         -0.011642   \n",
       "sex                      -0.002425         -0.011156          0.017117   \n",
       "bmi                      -0.138156         -0.135996          0.270025   \n",
       "children                 -0.022808          0.024806         -0.023066   \n",
       "smoker                    0.002811         -0.036945          0.068498   \n",
       "charges                   0.006349         -0.039905          0.073982   \n",
       "region_northeast          1.000000         -0.320177         -0.345561   \n",
       "region_northwest         -0.320177          1.000000         -0.346265   \n",
       "region_southeast         -0.345561         -0.346265          1.000000   \n",
       "region_southwest         -0.320177         -0.320829         -0.346265   \n",
       "\n",
       "                  region_southwest  \n",
       "age                       0.010016  \n",
       "sex                      -0.004184  \n",
       "bmi                      -0.006205  \n",
       "children                  0.021914  \n",
       "smoker                   -0.036945  \n",
       "charges                  -0.043210  \n",
       "region_northeast         -0.320177  \n",
       "region_northwest         -0.320829  \n",
       "region_southeast         -0.346265  \n",
       "region_southwest          1.000000  "
      ]
     },
     "execution_count": 111,
     "metadata": {},
     "output_type": "execute_result"
    }
   ],
   "source": [
    "df.corr()"
   ]
  },
  {
   "cell_type": "markdown",
   "id": "70bfee39-4ade-4da9-833e-900a2856341c",
   "metadata": {},
   "source": [
    "### Outliers y escalado de variables"
   ]
  },
  {
   "cell_type": "code",
   "execution_count": 112,
   "id": "b543579e-792c-4c03-b652-55650024307b",
   "metadata": {},
   "outputs": [
    {
     "data": {
      "image/png": "[encoded data removed]",
      "text/plain": [
       "<Figure size 640x480 with 1 Axes>"
      ]
     },
     "metadata": {},
     "output_type": "display_data"
    }
   ],
   "source": [
    "plt.boxplot([df['age'], df['bmi']])\n",
    "plt.show() #Age no tiene outliers y bmi puede tener alguno que voy a comporbar con z-score"
   ]
  },
  {
   "cell_type": "code",
   "execution_count": 113,
   "id": "e22ab2f1-ea27-4e00-b87f-c29f12be59b3",
   "metadata": {},
   "outputs": [
    {
     "data": {
      "text/html": [
       "<div>\n",
       "<style scoped>\n",
       "    .dataframe tbody tr th:only-of-type {\n",
       "        vertical-align: middle;\n",
       "    }\n",
       "\n",
       "    .dataframe tbody tr th {\n",
       "        vertical-align: top;\n",
       "    }\n",
       "\n",
       "    .dataframe thead th {\n",
       "        text-align: right;\n",
       "    }\n",
       "</style>\n",
       "<table border=\"1\" class=\"dataframe\">\n",
       "  <thead>\n",
       "    <tr style=\"text-align: right;\">\n",
       "      <th></th>\n",
       "      <th>age</th>\n",
       "      <th>sex</th>\n",
       "      <th>bmi</th>\n",
       "      <th>children</th>\n",
       "      <th>smoker</th>\n",
       "      <th>charges</th>\n",
       "      <th>region_northeast</th>\n",
       "      <th>region_northwest</th>\n",
       "      <th>region_southeast</th>\n",
       "      <th>region_southwest</th>\n",
       "    </tr>\n",
       "  </thead>\n",
       "  <tbody>\n",
       "    <tr>\n",
       "      <th>116</th>\n",
       "      <td>58</td>\n",
       "      <td>1</td>\n",
       "      <td>49.06</td>\n",
       "      <td>0</td>\n",
       "      <td>0</td>\n",
       "      <td>11381.3254</td>\n",
       "      <td>0</td>\n",
       "      <td>0</td>\n",
       "      <td>1</td>\n",
       "      <td>0</td>\n",
       "    </tr>\n",
       "    <tr>\n",
       "      <th>847</th>\n",
       "      <td>23</td>\n",
       "      <td>1</td>\n",
       "      <td>50.38</td>\n",
       "      <td>1</td>\n",
       "      <td>0</td>\n",
       "      <td>2438.0552</td>\n",
       "      <td>0</td>\n",
       "      <td>0</td>\n",
       "      <td>1</td>\n",
       "      <td>0</td>\n",
       "    </tr>\n",
       "    <tr>\n",
       "      <th>1047</th>\n",
       "      <td>22</td>\n",
       "      <td>1</td>\n",
       "      <td>52.58</td>\n",
       "      <td>1</td>\n",
       "      <td>1</td>\n",
       "      <td>44501.3982</td>\n",
       "      <td>0</td>\n",
       "      <td>0</td>\n",
       "      <td>1</td>\n",
       "      <td>0</td>\n",
       "    </tr>\n",
       "    <tr>\n",
       "      <th>1317</th>\n",
       "      <td>18</td>\n",
       "      <td>1</td>\n",
       "      <td>53.13</td>\n",
       "      <td>0</td>\n",
       "      <td>0</td>\n",
       "      <td>1163.4627</td>\n",
       "      <td>0</td>\n",
       "      <td>0</td>\n",
       "      <td>1</td>\n",
       "      <td>0</td>\n",
       "    </tr>\n",
       "  </tbody>\n",
       "</table>\n",
       "</div>"
      ],
      "text/plain": [
       "      age  sex    bmi  children  smoker     charges  region_northeast  \\\n",
       "116    58    1  49.06         0       0  11381.3254                 0   \n",
       "847    23    1  50.38         1       0   2438.0552                 0   \n",
       "1047   22    1  52.58         1       1  44501.3982                 0   \n",
       "1317   18    1  53.13         0       0   1163.4627                 0   \n",
       "\n",
       "      region_northwest  region_southeast  region_southwest  \n",
       "116                  0                 1                 0  \n",
       "847                  0                 1                 0  \n",
       "1047                 0                 1                 0  \n",
       "1317                 0                 1                 0  "
      ]
     },
     "execution_count": 113,
     "metadata": {},
     "output_type": "execute_result"
    }
   ],
   "source": [
    "z_scores_bmi = stats.zscore(df['bmi'])\n",
    "outliers_bmi = df[(z_scores_bmi > 3) | (z_scores_bmi < -3)]\n",
    "outliers_bmi #Solo hay 4 outliers, que voy a imputar por la mediana"
   ]
  },
  {
   "cell_type": "code",
   "execution_count": 114,
   "id": "d0781578-f1e9-4a0f-a97e-63fdf86fbb70",
   "metadata": {},
   "outputs": [],
   "source": [
    "mediana_bmi = df['bmi'].median()\n",
    "df.loc[outliers_bmi.index, 'bmi'] = mediana_bmi"
   ]
  },
  {
   "cell_type": "code",
   "execution_count": 115,
   "id": "e017cccd-2a0b-49b7-8002-f1537bb2ce67",
   "metadata": {},
   "outputs": [
    {
     "data": {
      "image/png": "[encoded data removed]",
      "text/plain": [
       "<Figure size 640x480 with 1 Axes>"
      ]
     },
     "metadata": {},
     "output_type": "display_data"
    }
   ],
   "source": [
    "plt.boxplot(df['charges'])\n",
    "plt.show() #Voy a ver cuantos outliers hay con el mismo método"
   ]
  },
  {
   "cell_type": "code",
   "execution_count": 116,
   "id": "766623d7-21a2-4c25-9d3a-2b893a45fe5b",
   "metadata": {},
   "outputs": [
    {
     "data": {
      "text/plain": [
       "(7, 10)"
      ]
     },
     "execution_count": 116,
     "metadata": {},
     "output_type": "execute_result"
    }
   ],
   "source": [
    "z_scores_charges = stats.zscore(df['charges'])\n",
    "outliers_charges = df[(z_scores_charges > 3) | (z_scores_charges < -3)]\n",
    "outliers_charges.shape #Solo hay 7 outliers, por lo que no voy a tratarlos en la variable dependiente"
   ]
  },
  {
   "cell_type": "code",
   "execution_count": 117,
   "id": "afd2cc93-a401-4220-81dc-de36c83562bf",
   "metadata": {},
   "outputs": [],
   "source": [
    "scaler = StandardScaler()\n",
    "df[['age', 'bmi']] = scaler.fit_transform(df[['age', 'bmi']])"
   ]
  },
  {
   "cell_type": "markdown",
   "id": "34b121c4-462d-473e-a29c-cc3eb9e19270",
   "metadata": {},
   "source": [
    "### División en conjunto de test y entrenamiento  \n",
    "Voy a usar validación cruzada, pero quiero valorar las predicciones en un conjunto independiente"
   ]
  },
  {
   "cell_type": "code",
   "execution_count": 118,
   "id": "66262d28-43d7-4f30-b9c3-b9209ca041a6",
   "metadata": {},
   "outputs": [],
   "source": [
    "X = df.drop(['charges'], axis=1)\n",
    "y = df['charges']\n",
    "X_train, X_test, y_train, y_test = train_test_split(X, y, test_size=0.2, random_state=42)"
   ]
  },
  {
   "cell_type": "markdown",
   "id": "9ddd4599-b847-4c5c-a4dd-ebde12cab2cd",
   "metadata": {},
   "source": [
    "### Modelo regresión lineal 1  \n",
    "Con el primer modelo de regresion lineal consigo un r2 medio de 74.68% y de 77.80% en el conjunto de test"
   ]
  },
  {
   "cell_type": "code",
   "execution_count": 119,
   "id": "ba4ba3e1-7f2d-4b36-98d7-e35157b82df4",
   "metadata": {},
   "outputs": [
    {
     "data": {
      "text/plain": [
       "0.7467663621623909"
      ]
     },
     "execution_count": 119,
     "metadata": {},
     "output_type": "execute_result"
    }
   ],
   "source": [
    "model = LinearRegression()\n",
    "scores = cross_val_score(model, X, y, cv=5, scoring='r2')\n",
    "r2_promedio = scores.mean()\n",
    "r2_promedio"
   ]
  },
  {
   "cell_type": "code",
   "execution_count": 120,
   "id": "0d5f8cb2-93b6-4c00-965a-fbcd7daffd5c",
   "metadata": {},
   "outputs": [
    {
     "data": {
      "text/plain": [
       "0.7780947853838006"
      ]
     },
     "execution_count": 120,
     "metadata": {},
     "output_type": "execute_result"
    }
   ],
   "source": [
    "model.fit(X_train, y_train)\n",
    "y_pred = model.predict(X_test)\n",
    "r2_test = r2_score(y_test, y_pred)\n",
    "r2_test"
   ]
  },
  {
   "cell_type": "markdown",
   "id": "901d724f-f471-4b00-a184-30a0131ad9b2",
   "metadata": {},
   "source": [
    "### Validación del modelo  \n",
    "Comprobamos la normalidad e independencia de los errores y la homocedasticidad"
   ]
  },
  {
   "cell_type": "code",
   "execution_count": 121,
   "id": "b049d836-0f52-48fd-b2fb-46c77b748fcc",
   "metadata": {},
   "outputs": [
    {
     "name": "stdout",
     "output_type": "stream",
     "text": [
      "2.1663808564204903\n",
      "ShapiroResult(statistic=0.9134807586669922, pvalue=2.5108906273607623e-11)\n",
      "(35.714003148475506, 4.455654345020855e-05, 4.977660589118317, 9.453173824910196e-06)\n"
     ]
    }
   ],
   "source": [
    "residuos = y_test - y_pred\n",
    "dw_stat = durbin_watson(residuos)\n",
    "print(dw_stat)\n",
    "shapiro_test = stats.shapiro(residuos)\n",
    "print(shapiro_test)\n",
    "X_test_const = sm.add_constant(X_test)\n",
    "test_bp = sms.het_breuschpagan(residuos, X_test_const)\n",
    "print(test_bp)"
   ]
  },
  {
   "cell_type": "markdown",
   "id": "1d94f5ff-5ed9-47cf-9999-44b99d2bef89",
   "metadata": {},
   "source": [
    "### Modelo regresión lineal 2\n",
    "Hay problemas de Heterocedasticidad y de normalidad en los errores, por lo que voy a probar a transformar la variable charges con una transformacion boxcox  \n",
    "Solo lo uso en train_test_split"
   ]
  },
  {
   "cell_type": "code",
   "execution_count": 122,
   "id": "0913b1ea-cf36-4a14-b219-f8082c074a03",
   "metadata": {},
   "outputs": [
    {
     "name": "stdout",
     "output_type": "stream",
     "text": [
      "Valor de lambda en Box-Cox: 0.043649053770664956\n"
     ]
    }
   ],
   "source": [
    "df['charges_boxcox'], lambda_optimo = stats.boxcox(df['charges'])\n",
    "print(f\"Valor de lambda en Box-Cox: {lambda_optimo}\")"
   ]
  },
  {
   "cell_type": "code",
   "execution_count": 123,
   "id": "ef61d762-8433-43c7-9b92-c0589baf79fa",
   "metadata": {},
   "outputs": [],
   "source": [
    "X = df.drop(['charges', 'charges_boxcox'], axis=1)\n",
    "y = df['charges']\n",
    "X2_train, X2_test, y2_train, y2_test = train_test_split(X2, y2, test_size=0.2, random_state=42)"
   ]
  },
  {
   "cell_type": "code",
   "execution_count": 124,
   "id": "69947f3e-22c7-4416-8f46-45172cafc432",
   "metadata": {},
   "outputs": [
    {
     "data": {
      "text/plain": [
       "0.8042720543743946"
      ]
     },
     "execution_count": 124,
     "metadata": {},
     "output_type": "execute_result"
    }
   ],
   "source": [
    "model.fit(X2_train, y2_train)\n",
    "y2_pred = model.predict(X2_test)\n",
    "r2_test2 = r2_score(y2_test, y2_pred)\n",
    "r2_test2"
   ]
  },
  {
   "cell_type": "code",
   "execution_count": 125,
   "id": "eaefa5b6-2f4f-42c9-b59f-b781d69af568",
   "metadata": {},
   "outputs": [
    {
     "name": "stdout",
     "output_type": "stream",
     "text": [
      "2.220331059570985\n",
      "ShapiroResult(statistic=0.8437080383300781, pvalue=9.262055403506334e-16)\n",
      "(12.748606459640545, 0.17431537232538888, 1.6169789649575501, 0.1200737325249812)\n"
     ]
    }
   ],
   "source": [
    "residuos2 = y2_test - y2_pred\n",
    "dw_stat2 = durbin_watson(residuos2)\n",
    "print(dw_stat2)\n",
    "shapiro_test2 = stats.shapiro(residuos2)\n",
    "print(shapiro_test2)\n",
    "X_test_const2 = sm.add_constant(X2_test)\n",
    "test_bp2 = sms.het_breuschpagan(residuos2, X_test_const2)\n",
    "print(test_bp2)"
   ]
  },
  {
   "cell_type": "markdown",
   "id": "d862bfce-0016-4a56-9028-8070e055313d",
   "metadata": {},
   "source": [
    "### Modelo regresión lineal 3 (Ridge)  \n",
    "Se ha solucionado el problema de heterocedasticidad, pero no el de no normalidad de los residuos. Habria que probar en el futuro algun modelo robusto u otro tipo de modelo, pero por ahora voy a probar con Ridge y Lasso  "
   ]
  },
  {
   "cell_type": "code",
   "execution_count": 130,
   "id": "bae82084-ea6e-46a2-ba64-1860359c3a45",
   "metadata": {},
   "outputs": [
    {
     "data": {
      "text/plain": [
       "0.804143296963758"
      ]
     },
     "execution_count": 130,
     "metadata": {},
     "output_type": "execute_result"
    }
   ],
   "source": [
    "ridge_model = Ridge(alpha=1)\n",
    "ridge_model.fit(X2_train, y2_train)\n",
    "y3_pred = ridge_model.predict(X2_test)\n",
    "r2_test3 = r2_score(y2_test, y3_pred)\n",
    "r2_test3"
   ]
  },
  {
   "cell_type": "markdown",
   "id": "b1c128f4-f0dc-4b40-b4e2-894a72c8ce9e",
   "metadata": {},
   "source": [
    "### Modelo regresión lineal 4 (Lasso)  \n",
    "Con Ridge no consigo ninguna mejora del modelo, voy a probar con Lasso"
   ]
  },
  {
   "cell_type": "code",
   "execution_count": 131,
   "id": "321cf1a9-eb44-4f2f-bfd4-4101ebc07bc5",
   "metadata": {},
   "outputs": [
    {
     "data": {
      "text/plain": [
       "0.7450903421783921"
      ]
     },
     "execution_count": 131,
     "metadata": {},
     "output_type": "execute_result"
    }
   ],
   "source": [
    "lasso_model = Lasso(alpha=0.1)\n",
    "lasso_model.fit(X2_train, y2_train)\n",
    "y4_pred = lasso_model.predict(X2_test)\n",
    "r2_test4 = r2_score(y2_test, y4_pred)\n",
    "r2_test4"
   ]
  },
  {
   "cell_type": "markdown",
   "id": "ef368091-de10-4e6a-a8eb-180147d5e423",
   "metadata": {},
   "source": [
    "### Guardar el modelo  \n",
    "Guardo el modelo original de regresión lineal, ya que ninguno consigue una mejora significativa y el modelo con transformacion boxcox sigue teniendo problemas de no normalidad de los residuos.  \n",
    "Aún así este modelo es bueno para predecir, explicando un 78% de la varianza de la variable dependiente en los datos de test"
   ]
  },
  {
   "cell_type": "code",
   "execution_count": 133,
   "id": "09a2d200-9ae2-4bec-9554-ebeac7d872df",
   "metadata": {},
   "outputs": [
    {
     "data": {
      "text/plain": [
       "['linear_regression_model.pkl']"
      ]
     },
     "execution_count": 133,
     "metadata": {},
     "output_type": "execute_result"
    }
   ],
   "source": [
    "joblib.dump(model, 'linear_regression_model.pkl')"
   ]
  }
 ],
 "metadata": {
  "kernelspec": {
   "display_name": "Python 3 (ipykernel)",
   "language": "python",
   "name": "python3"
  },
  "language_info": {
   "codemirror_mode": {
    "name": "ipython",
    "version": 3
   },
   "file_extension": ".py",
   "mimetype": "text/x-python",
   "name": "python",
   "nbconvert_exporter": "python",
   "pygments_lexer": "ipython3",
   "version": "3.9.18"
  }
 },
 "nbformat": 4,
 "nbformat_minor": 5
}
